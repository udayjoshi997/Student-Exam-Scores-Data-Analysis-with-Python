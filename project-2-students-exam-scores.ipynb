{
 "cells": [
  {
   "cell_type": "code",
   "execution_count": 1,
   "id": "60eec3bc",
   "metadata": {
    "execution": {
     "iopub.execute_input": "2024-02-03T15:13:25.925003Z",
     "iopub.status.busy": "2024-02-03T15:13:25.924490Z",
     "iopub.status.idle": "2024-02-03T15:13:28.060726Z",
     "shell.execute_reply": "2024-02-03T15:13:28.059532Z"
    },
    "papermill": {
     "duration": 2.149827,
     "end_time": "2024-02-03T15:13:28.063760",
     "exception": false,
     "start_time": "2024-02-03T15:13:25.913933",
     "status": "completed"
    },
    "tags": []
   },
   "outputs": [],
   "source": [
    "import numpy as np\n",
    "import pandas as pd\n",
    "import matplotlib.pyplot as plt\n",
    "import seaborn as sns"
   ]
  },
  {
   "cell_type": "code",
   "execution_count": 2,
   "id": "30ed1db9",
   "metadata": {
    "execution": {
     "iopub.execute_input": "2024-02-03T15:13:28.082336Z",
     "iopub.status.busy": "2024-02-03T15:13:28.081418Z",
     "iopub.status.idle": "2024-02-03T15:13:28.229464Z",
     "shell.execute_reply": "2024-02-03T15:13:28.228420Z"
    },
    "papermill": {
     "duration": 0.16045,
     "end_time": "2024-02-03T15:13:28.232486",
     "exception": false,
     "start_time": "2024-02-03T15:13:28.072036",
     "status": "completed"
    },
    "tags": []
   },
   "outputs": [],
   "source": [
    "# import csv file\n",
    "df = pd.read_csv(\"/kaggle/input/students-exam-scores/Expanded_data_with_more_features.csv\", encoding= 'unicode_escape')\n",
    "# to avoid encoding error, use \"unicode_escape\""
   ]
  },
  {
   "cell_type": "code",
   "execution_count": 3,
   "id": "450324ab",
   "metadata": {
    "execution": {
     "iopub.execute_input": "2024-02-03T15:13:28.250556Z",
     "iopub.status.busy": "2024-02-03T15:13:28.250185Z",
     "iopub.status.idle": "2024-02-03T15:13:28.274124Z",
     "shell.execute_reply": "2024-02-03T15:13:28.273047Z"
    },
    "papermill": {
     "duration": 0.036086,
     "end_time": "2024-02-03T15:13:28.276620",
     "exception": false,
     "start_time": "2024-02-03T15:13:28.240534",
     "status": "completed"
    },
    "tags": []
   },
   "outputs": [
    {
     "data": {
      "text/html": [
       "<div>\n",
       "<style scoped>\n",
       "    .dataframe tbody tr th:only-of-type {\n",
       "        vertical-align: middle;\n",
       "    }\n",
       "\n",
       "    .dataframe tbody tr th {\n",
       "        vertical-align: top;\n",
       "    }\n",
       "\n",
       "    .dataframe thead th {\n",
       "        text-align: right;\n",
       "    }\n",
       "</style>\n",
       "<table border=\"1\" class=\"dataframe\">\n",
       "  <thead>\n",
       "    <tr style=\"text-align: right;\">\n",
       "      <th></th>\n",
       "      <th>Unnamed: 0</th>\n",
       "      <th>Gender</th>\n",
       "      <th>EthnicGroup</th>\n",
       "      <th>ParentEduc</th>\n",
       "      <th>LunchType</th>\n",
       "      <th>TestPrep</th>\n",
       "      <th>ParentMaritalStatus</th>\n",
       "      <th>PracticeSport</th>\n",
       "      <th>IsFirstChild</th>\n",
       "      <th>NrSiblings</th>\n",
       "      <th>TransportMeans</th>\n",
       "      <th>WklyStudyHours</th>\n",
       "      <th>MathScore</th>\n",
       "      <th>ReadingScore</th>\n",
       "      <th>WritingScore</th>\n",
       "    </tr>\n",
       "  </thead>\n",
       "  <tbody>\n",
       "    <tr>\n",
       "      <th>0</th>\n",
       "      <td>0</td>\n",
       "      <td>female</td>\n",
       "      <td>NaN</td>\n",
       "      <td>bachelor's degree</td>\n",
       "      <td>standard</td>\n",
       "      <td>none</td>\n",
       "      <td>married</td>\n",
       "      <td>regularly</td>\n",
       "      <td>yes</td>\n",
       "      <td>3.0</td>\n",
       "      <td>school_bus</td>\n",
       "      <td>&lt; 5</td>\n",
       "      <td>71</td>\n",
       "      <td>71</td>\n",
       "      <td>74</td>\n",
       "    </tr>\n",
       "    <tr>\n",
       "      <th>1</th>\n",
       "      <td>1</td>\n",
       "      <td>female</td>\n",
       "      <td>group C</td>\n",
       "      <td>some college</td>\n",
       "      <td>standard</td>\n",
       "      <td>NaN</td>\n",
       "      <td>married</td>\n",
       "      <td>sometimes</td>\n",
       "      <td>yes</td>\n",
       "      <td>0.0</td>\n",
       "      <td>NaN</td>\n",
       "      <td>5 - 10</td>\n",
       "      <td>69</td>\n",
       "      <td>90</td>\n",
       "      <td>88</td>\n",
       "    </tr>\n",
       "    <tr>\n",
       "      <th>2</th>\n",
       "      <td>2</td>\n",
       "      <td>female</td>\n",
       "      <td>group B</td>\n",
       "      <td>master's degree</td>\n",
       "      <td>standard</td>\n",
       "      <td>none</td>\n",
       "      <td>single</td>\n",
       "      <td>sometimes</td>\n",
       "      <td>yes</td>\n",
       "      <td>4.0</td>\n",
       "      <td>school_bus</td>\n",
       "      <td>&lt; 5</td>\n",
       "      <td>87</td>\n",
       "      <td>93</td>\n",
       "      <td>91</td>\n",
       "    </tr>\n",
       "    <tr>\n",
       "      <th>3</th>\n",
       "      <td>3</td>\n",
       "      <td>male</td>\n",
       "      <td>group A</td>\n",
       "      <td>associate's degree</td>\n",
       "      <td>free/reduced</td>\n",
       "      <td>none</td>\n",
       "      <td>married</td>\n",
       "      <td>never</td>\n",
       "      <td>no</td>\n",
       "      <td>1.0</td>\n",
       "      <td>NaN</td>\n",
       "      <td>5 - 10</td>\n",
       "      <td>45</td>\n",
       "      <td>56</td>\n",
       "      <td>42</td>\n",
       "    </tr>\n",
       "    <tr>\n",
       "      <th>4</th>\n",
       "      <td>4</td>\n",
       "      <td>male</td>\n",
       "      <td>group C</td>\n",
       "      <td>some college</td>\n",
       "      <td>standard</td>\n",
       "      <td>none</td>\n",
       "      <td>married</td>\n",
       "      <td>sometimes</td>\n",
       "      <td>yes</td>\n",
       "      <td>0.0</td>\n",
       "      <td>school_bus</td>\n",
       "      <td>5 - 10</td>\n",
       "      <td>76</td>\n",
       "      <td>78</td>\n",
       "      <td>75</td>\n",
       "    </tr>\n",
       "  </tbody>\n",
       "</table>\n",
       "</div>"
      ],
      "text/plain": [
       "   Unnamed: 0  Gender EthnicGroup          ParentEduc     LunchType TestPrep  \\\n",
       "0           0  female         NaN   bachelor's degree      standard     none   \n",
       "1           1  female     group C        some college      standard      NaN   \n",
       "2           2  female     group B     master's degree      standard     none   \n",
       "3           3    male     group A  associate's degree  free/reduced     none   \n",
       "4           4    male     group C        some college      standard     none   \n",
       "\n",
       "  ParentMaritalStatus PracticeSport IsFirstChild  NrSiblings TransportMeans  \\\n",
       "0             married     regularly          yes         3.0     school_bus   \n",
       "1             married     sometimes          yes         0.0            NaN   \n",
       "2              single     sometimes          yes         4.0     school_bus   \n",
       "3             married         never           no         1.0            NaN   \n",
       "4             married     sometimes          yes         0.0     school_bus   \n",
       "\n",
       "  WklyStudyHours  MathScore  ReadingScore  WritingScore  \n",
       "0            < 5         71            71            74  \n",
       "1         5 - 10         69            90            88  \n",
       "2            < 5         87            93            91  \n",
       "3         5 - 10         45            56            42  \n",
       "4         5 - 10         76            78            75  "
      ]
     },
     "execution_count": 3,
     "metadata": {},
     "output_type": "execute_result"
    }
   ],
   "source": [
    "df.head()"
   ]
  },
  {
   "cell_type": "code",
   "execution_count": 4,
   "id": "3aaf13fe",
   "metadata": {
    "execution": {
     "iopub.execute_input": "2024-02-03T15:13:28.295515Z",
     "iopub.status.busy": "2024-02-03T15:13:28.295143Z",
     "iopub.status.idle": "2024-02-03T15:13:28.330578Z",
     "shell.execute_reply": "2024-02-03T15:13:28.329715Z"
    },
    "papermill": {
     "duration": 0.04784,
     "end_time": "2024-02-03T15:13:28.332992",
     "exception": false,
     "start_time": "2024-02-03T15:13:28.285152",
     "status": "completed"
    },
    "tags": []
   },
   "outputs": [
    {
     "data": {
      "text/html": [
       "<div>\n",
       "<style scoped>\n",
       "    .dataframe tbody tr th:only-of-type {\n",
       "        vertical-align: middle;\n",
       "    }\n",
       "\n",
       "    .dataframe tbody tr th {\n",
       "        vertical-align: top;\n",
       "    }\n",
       "\n",
       "    .dataframe thead th {\n",
       "        text-align: right;\n",
       "    }\n",
       "</style>\n",
       "<table border=\"1\" class=\"dataframe\">\n",
       "  <thead>\n",
       "    <tr style=\"text-align: right;\">\n",
       "      <th></th>\n",
       "      <th>Unnamed: 0</th>\n",
       "      <th>NrSiblings</th>\n",
       "      <th>MathScore</th>\n",
       "      <th>ReadingScore</th>\n",
       "      <th>WritingScore</th>\n",
       "    </tr>\n",
       "  </thead>\n",
       "  <tbody>\n",
       "    <tr>\n",
       "      <th>count</th>\n",
       "      <td>30641.000000</td>\n",
       "      <td>29069.000000</td>\n",
       "      <td>30641.000000</td>\n",
       "      <td>30641.000000</td>\n",
       "      <td>30641.000000</td>\n",
       "    </tr>\n",
       "    <tr>\n",
       "      <th>mean</th>\n",
       "      <td>499.556607</td>\n",
       "      <td>2.145894</td>\n",
       "      <td>66.558402</td>\n",
       "      <td>69.377533</td>\n",
       "      <td>68.418622</td>\n",
       "    </tr>\n",
       "    <tr>\n",
       "      <th>std</th>\n",
       "      <td>288.747894</td>\n",
       "      <td>1.458242</td>\n",
       "      <td>15.361616</td>\n",
       "      <td>14.758952</td>\n",
       "      <td>15.443525</td>\n",
       "    </tr>\n",
       "    <tr>\n",
       "      <th>min</th>\n",
       "      <td>0.000000</td>\n",
       "      <td>0.000000</td>\n",
       "      <td>0.000000</td>\n",
       "      <td>10.000000</td>\n",
       "      <td>4.000000</td>\n",
       "    </tr>\n",
       "    <tr>\n",
       "      <th>25%</th>\n",
       "      <td>249.000000</td>\n",
       "      <td>1.000000</td>\n",
       "      <td>56.000000</td>\n",
       "      <td>59.000000</td>\n",
       "      <td>58.000000</td>\n",
       "    </tr>\n",
       "    <tr>\n",
       "      <th>50%</th>\n",
       "      <td>500.000000</td>\n",
       "      <td>2.000000</td>\n",
       "      <td>67.000000</td>\n",
       "      <td>70.000000</td>\n",
       "      <td>69.000000</td>\n",
       "    </tr>\n",
       "    <tr>\n",
       "      <th>75%</th>\n",
       "      <td>750.000000</td>\n",
       "      <td>3.000000</td>\n",
       "      <td>78.000000</td>\n",
       "      <td>80.000000</td>\n",
       "      <td>79.000000</td>\n",
       "    </tr>\n",
       "    <tr>\n",
       "      <th>max</th>\n",
       "      <td>999.000000</td>\n",
       "      <td>7.000000</td>\n",
       "      <td>100.000000</td>\n",
       "      <td>100.000000</td>\n",
       "      <td>100.000000</td>\n",
       "    </tr>\n",
       "  </tbody>\n",
       "</table>\n",
       "</div>"
      ],
      "text/plain": [
       "         Unnamed: 0    NrSiblings     MathScore  ReadingScore  WritingScore\n",
       "count  30641.000000  29069.000000  30641.000000  30641.000000  30641.000000\n",
       "mean     499.556607      2.145894     66.558402     69.377533     68.418622\n",
       "std      288.747894      1.458242     15.361616     14.758952     15.443525\n",
       "min        0.000000      0.000000      0.000000     10.000000      4.000000\n",
       "25%      249.000000      1.000000     56.000000     59.000000     58.000000\n",
       "50%      500.000000      2.000000     67.000000     70.000000     69.000000\n",
       "75%      750.000000      3.000000     78.000000     80.000000     79.000000\n",
       "max      999.000000      7.000000    100.000000    100.000000    100.000000"
      ]
     },
     "execution_count": 4,
     "metadata": {},
     "output_type": "execute_result"
    }
   ],
   "source": [
    "df.describe()"
   ]
  },
  {
   "cell_type": "code",
   "execution_count": 5,
   "id": "ec3463d1",
   "metadata": {
    "execution": {
     "iopub.execute_input": "2024-02-03T15:13:28.352743Z",
     "iopub.status.busy": "2024-02-03T15:13:28.352049Z",
     "iopub.status.idle": "2024-02-03T15:13:28.408057Z",
     "shell.execute_reply": "2024-02-03T15:13:28.406923Z"
    },
    "papermill": {
     "duration": 0.07039,
     "end_time": "2024-02-03T15:13:28.412083",
     "exception": false,
     "start_time": "2024-02-03T15:13:28.341693",
     "status": "completed"
    },
    "tags": []
   },
   "outputs": [
    {
     "name": "stdout",
     "output_type": "stream",
     "text": [
      "<class 'pandas.core.frame.DataFrame'>\n",
      "RangeIndex: 30641 entries, 0 to 30640\n",
      "Data columns (total 15 columns):\n",
      " #   Column               Non-Null Count  Dtype  \n",
      "---  ------               --------------  -----  \n",
      " 0   Unnamed: 0           30641 non-null  int64  \n",
      " 1   Gender               30641 non-null  object \n",
      " 2   EthnicGroup          28801 non-null  object \n",
      " 3   ParentEduc           28796 non-null  object \n",
      " 4   LunchType            30641 non-null  object \n",
      " 5   TestPrep             28811 non-null  object \n",
      " 6   ParentMaritalStatus  29451 non-null  object \n",
      " 7   PracticeSport        30010 non-null  object \n",
      " 8   IsFirstChild         29737 non-null  object \n",
      " 9   NrSiblings           29069 non-null  float64\n",
      " 10  TransportMeans       27507 non-null  object \n",
      " 11  WklyStudyHours       29686 non-null  object \n",
      " 12  MathScore            30641 non-null  int64  \n",
      " 13  ReadingScore         30641 non-null  int64  \n",
      " 14  WritingScore         30641 non-null  int64  \n",
      "dtypes: float64(1), int64(4), object(10)\n",
      "memory usage: 3.5+ MB\n"
     ]
    }
   ],
   "source": [
    "df.info()"
   ]
  },
  {
   "cell_type": "code",
   "execution_count": 6,
   "id": "5834178f",
   "metadata": {
    "execution": {
     "iopub.execute_input": "2024-02-03T15:13:28.432084Z",
     "iopub.status.busy": "2024-02-03T15:13:28.431701Z",
     "iopub.status.idle": "2024-02-03T15:13:28.473068Z",
     "shell.execute_reply": "2024-02-03T15:13:28.471651Z"
    },
    "papermill": {
     "duration": 0.054101,
     "end_time": "2024-02-03T15:13:28.475382",
     "exception": false,
     "start_time": "2024-02-03T15:13:28.421281",
     "status": "completed"
    },
    "tags": []
   },
   "outputs": [
    {
     "data": {
      "text/plain": [
       "Unnamed: 0                0\n",
       "Gender                    0\n",
       "EthnicGroup            1840\n",
       "ParentEduc             1845\n",
       "LunchType                 0\n",
       "TestPrep               1830\n",
       "ParentMaritalStatus    1190\n",
       "PracticeSport           631\n",
       "IsFirstChild            904\n",
       "NrSiblings             1572\n",
       "TransportMeans         3134\n",
       "WklyStudyHours          955\n",
       "MathScore                 0\n",
       "ReadingScore              0\n",
       "WritingScore              0\n",
       "dtype: int64"
      ]
     },
     "execution_count": 6,
     "metadata": {},
     "output_type": "execute_result"
    }
   ],
   "source": [
    "df.isnull().sum()"
   ]
  },
  {
   "cell_type": "markdown",
   "id": "967c77d3",
   "metadata": {
    "papermill": {
     "duration": 0.008711,
     "end_time": "2024-02-03T15:13:28.493620",
     "exception": false,
     "start_time": "2024-02-03T15:13:28.484909",
     "status": "completed"
    },
    "tags": []
   },
   "source": [
    "# Drop unnamed column"
   ]
  },
  {
   "cell_type": "code",
   "execution_count": 7,
   "id": "b8e7c74e",
   "metadata": {
    "execution": {
     "iopub.execute_input": "2024-02-03T15:13:28.513602Z",
     "iopub.status.busy": "2024-02-03T15:13:28.513226Z",
     "iopub.status.idle": "2024-02-03T15:13:28.537384Z",
     "shell.execute_reply": "2024-02-03T15:13:28.536299Z"
    },
    "papermill": {
     "duration": 0.036437,
     "end_time": "2024-02-03T15:13:28.539445",
     "exception": false,
     "start_time": "2024-02-03T15:13:28.503008",
     "status": "completed"
    },
    "tags": []
   },
   "outputs": [
    {
     "data": {
      "text/html": [
       "<div>\n",
       "<style scoped>\n",
       "    .dataframe tbody tr th:only-of-type {\n",
       "        vertical-align: middle;\n",
       "    }\n",
       "\n",
       "    .dataframe tbody tr th {\n",
       "        vertical-align: top;\n",
       "    }\n",
       "\n",
       "    .dataframe thead th {\n",
       "        text-align: right;\n",
       "    }\n",
       "</style>\n",
       "<table border=\"1\" class=\"dataframe\">\n",
       "  <thead>\n",
       "    <tr style=\"text-align: right;\">\n",
       "      <th></th>\n",
       "      <th>Gender</th>\n",
       "      <th>EthnicGroup</th>\n",
       "      <th>ParentEduc</th>\n",
       "      <th>LunchType</th>\n",
       "      <th>TestPrep</th>\n",
       "      <th>ParentMaritalStatus</th>\n",
       "      <th>PracticeSport</th>\n",
       "      <th>IsFirstChild</th>\n",
       "      <th>NrSiblings</th>\n",
       "      <th>TransportMeans</th>\n",
       "      <th>WklyStudyHours</th>\n",
       "      <th>MathScore</th>\n",
       "      <th>ReadingScore</th>\n",
       "      <th>WritingScore</th>\n",
       "    </tr>\n",
       "  </thead>\n",
       "  <tbody>\n",
       "    <tr>\n",
       "      <th>0</th>\n",
       "      <td>female</td>\n",
       "      <td>NaN</td>\n",
       "      <td>bachelor's degree</td>\n",
       "      <td>standard</td>\n",
       "      <td>none</td>\n",
       "      <td>married</td>\n",
       "      <td>regularly</td>\n",
       "      <td>yes</td>\n",
       "      <td>3.0</td>\n",
       "      <td>school_bus</td>\n",
       "      <td>&lt; 5</td>\n",
       "      <td>71</td>\n",
       "      <td>71</td>\n",
       "      <td>74</td>\n",
       "    </tr>\n",
       "    <tr>\n",
       "      <th>1</th>\n",
       "      <td>female</td>\n",
       "      <td>group C</td>\n",
       "      <td>some college</td>\n",
       "      <td>standard</td>\n",
       "      <td>NaN</td>\n",
       "      <td>married</td>\n",
       "      <td>sometimes</td>\n",
       "      <td>yes</td>\n",
       "      <td>0.0</td>\n",
       "      <td>NaN</td>\n",
       "      <td>5 - 10</td>\n",
       "      <td>69</td>\n",
       "      <td>90</td>\n",
       "      <td>88</td>\n",
       "    </tr>\n",
       "    <tr>\n",
       "      <th>2</th>\n",
       "      <td>female</td>\n",
       "      <td>group B</td>\n",
       "      <td>master's degree</td>\n",
       "      <td>standard</td>\n",
       "      <td>none</td>\n",
       "      <td>single</td>\n",
       "      <td>sometimes</td>\n",
       "      <td>yes</td>\n",
       "      <td>4.0</td>\n",
       "      <td>school_bus</td>\n",
       "      <td>&lt; 5</td>\n",
       "      <td>87</td>\n",
       "      <td>93</td>\n",
       "      <td>91</td>\n",
       "    </tr>\n",
       "    <tr>\n",
       "      <th>3</th>\n",
       "      <td>male</td>\n",
       "      <td>group A</td>\n",
       "      <td>associate's degree</td>\n",
       "      <td>free/reduced</td>\n",
       "      <td>none</td>\n",
       "      <td>married</td>\n",
       "      <td>never</td>\n",
       "      <td>no</td>\n",
       "      <td>1.0</td>\n",
       "      <td>NaN</td>\n",
       "      <td>5 - 10</td>\n",
       "      <td>45</td>\n",
       "      <td>56</td>\n",
       "      <td>42</td>\n",
       "    </tr>\n",
       "    <tr>\n",
       "      <th>4</th>\n",
       "      <td>male</td>\n",
       "      <td>group C</td>\n",
       "      <td>some college</td>\n",
       "      <td>standard</td>\n",
       "      <td>none</td>\n",
       "      <td>married</td>\n",
       "      <td>sometimes</td>\n",
       "      <td>yes</td>\n",
       "      <td>0.0</td>\n",
       "      <td>school_bus</td>\n",
       "      <td>5 - 10</td>\n",
       "      <td>76</td>\n",
       "      <td>78</td>\n",
       "      <td>75</td>\n",
       "    </tr>\n",
       "  </tbody>\n",
       "</table>\n",
       "</div>"
      ],
      "text/plain": [
       "   Gender EthnicGroup          ParentEduc     LunchType TestPrep  \\\n",
       "0  female         NaN   bachelor's degree      standard     none   \n",
       "1  female     group C        some college      standard      NaN   \n",
       "2  female     group B     master's degree      standard     none   \n",
       "3    male     group A  associate's degree  free/reduced     none   \n",
       "4    male     group C        some college      standard     none   \n",
       "\n",
       "  ParentMaritalStatus PracticeSport IsFirstChild  NrSiblings TransportMeans  \\\n",
       "0             married     regularly          yes         3.0     school_bus   \n",
       "1             married     sometimes          yes         0.0            NaN   \n",
       "2              single     sometimes          yes         4.0     school_bus   \n",
       "3             married         never           no         1.0            NaN   \n",
       "4             married     sometimes          yes         0.0     school_bus   \n",
       "\n",
       "  WklyStudyHours  MathScore  ReadingScore  WritingScore  \n",
       "0            < 5         71            71            74  \n",
       "1         5 - 10         69            90            88  \n",
       "2            < 5         87            93            91  \n",
       "3         5 - 10         45            56            42  \n",
       "4         5 - 10         76            78            75  "
      ]
     },
     "execution_count": 7,
     "metadata": {},
     "output_type": "execute_result"
    }
   ],
   "source": [
    "df=df.drop(\"Unnamed: 0\",axis=1)\n",
    "df.head()"
   ]
  },
  {
   "cell_type": "markdown",
   "id": "0d51cd7e",
   "metadata": {
    "papermill": {
     "duration": 0.009131,
     "end_time": "2024-02-03T15:13:28.557925",
     "exception": false,
     "start_time": "2024-02-03T15:13:28.548794",
     "status": "completed"
    },
    "tags": []
   },
   "source": [
    "# Gender Distribution"
   ]
  },
  {
   "cell_type": "code",
   "execution_count": 8,
   "id": "a176d1d7",
   "metadata": {
    "execution": {
     "iopub.execute_input": "2024-02-03T15:13:28.578211Z",
     "iopub.status.busy": "2024-02-03T15:13:28.577829Z",
     "iopub.status.idle": "2024-02-03T15:13:28.917726Z",
     "shell.execute_reply": "2024-02-03T15:13:28.916727Z"
    },
    "papermill": {
     "duration": 0.353053,
     "end_time": "2024-02-03T15:13:28.920266",
     "exception": false,
     "start_time": "2024-02-03T15:13:28.567213",
     "status": "completed"
    },
    "tags": []
   },
   "outputs": [
    {
     "data": {
      "image/png": "[encoded data removed]",
      "text/plain": [
       "<Figure size 500x500 with 1 Axes>"
      ]
     },
     "metadata": {},
     "output_type": "display_data"
    }
   ],
   "source": [
    "plt.figure(figsize=(5,5))\n",
    "ax=sns.countplot(data=df, x='Gender')\n",
    "ax.bar_label(ax.containers[0])\n",
    "plt.title(\"Gender Distribution\")\n",
    "plt.show()"
   ]
  },
  {
   "cell_type": "markdown",
   "id": "4d6c27d3",
   "metadata": {
    "papermill": {
     "duration": 0.01041,
     "end_time": "2024-02-03T15:13:28.940433",
     "exception": false,
     "start_time": "2024-02-03T15:13:28.930023",
     "status": "completed"
    },
    "tags": []
   },
   "source": [
    "*From the above chart we have analysed that the number of females in the data is more than the number of males*"
   ]
  },
  {
   "cell_type": "code",
   "execution_count": 9,
   "id": "3435715b",
   "metadata": {
    "execution": {
     "iopub.execute_input": "2024-02-03T15:13:28.961701Z",
     "iopub.status.busy": "2024-02-03T15:13:28.961317Z",
     "iopub.status.idle": "2024-02-03T15:13:28.984017Z",
     "shell.execute_reply": "2024-02-03T15:13:28.982896Z"
    },
    "papermill": {
     "duration": 0.036346,
     "end_time": "2024-02-03T15:13:28.986494",
     "exception": false,
     "start_time": "2024-02-03T15:13:28.950148",
     "status": "completed"
    },
    "tags": []
   },
   "outputs": [
    {
     "data": {
      "text/html": [
       "<div>\n",
       "<style scoped>\n",
       "    .dataframe tbody tr th:only-of-type {\n",
       "        vertical-align: middle;\n",
       "    }\n",
       "\n",
       "    .dataframe tbody tr th {\n",
       "        vertical-align: top;\n",
       "    }\n",
       "\n",
       "    .dataframe thead th {\n",
       "        text-align: right;\n",
       "    }\n",
       "</style>\n",
       "<table border=\"1\" class=\"dataframe\">\n",
       "  <thead>\n",
       "    <tr style=\"text-align: right;\">\n",
       "      <th></th>\n",
       "      <th>MathScore</th>\n",
       "      <th>ReadingScore</th>\n",
       "      <th>WritingScore</th>\n",
       "    </tr>\n",
       "    <tr>\n",
       "      <th>ParentEduc</th>\n",
       "      <th></th>\n",
       "      <th></th>\n",
       "      <th></th>\n",
       "    </tr>\n",
       "  </thead>\n",
       "  <tbody>\n",
       "    <tr>\n",
       "      <th>associate's degree</th>\n",
       "      <td>68.365586</td>\n",
       "      <td>71.124324</td>\n",
       "      <td>70.299099</td>\n",
       "    </tr>\n",
       "    <tr>\n",
       "      <th>bachelor's degree</th>\n",
       "      <td>70.466627</td>\n",
       "      <td>73.062020</td>\n",
       "      <td>73.331069</td>\n",
       "    </tr>\n",
       "    <tr>\n",
       "      <th>high school</th>\n",
       "      <td>64.435731</td>\n",
       "      <td>67.213997</td>\n",
       "      <td>65.421136</td>\n",
       "    </tr>\n",
       "    <tr>\n",
       "      <th>master's degree</th>\n",
       "      <td>72.336134</td>\n",
       "      <td>75.832921</td>\n",
       "      <td>76.356896</td>\n",
       "    </tr>\n",
       "    <tr>\n",
       "      <th>some college</th>\n",
       "      <td>66.390472</td>\n",
       "      <td>69.179708</td>\n",
       "      <td>68.501432</td>\n",
       "    </tr>\n",
       "    <tr>\n",
       "      <th>some high school</th>\n",
       "      <td>62.584013</td>\n",
       "      <td>65.510785</td>\n",
       "      <td>63.632409</td>\n",
       "    </tr>\n",
       "  </tbody>\n",
       "</table>\n",
       "</div>"
      ],
      "text/plain": [
       "                    MathScore  ReadingScore  WritingScore\n",
       "ParentEduc                                               \n",
       "associate's degree  68.365586     71.124324     70.299099\n",
       "bachelor's degree   70.466627     73.062020     73.331069\n",
       "high school         64.435731     67.213997     65.421136\n",
       "master's degree     72.336134     75.832921     76.356896\n",
       "some college        66.390472     69.179708     68.501432\n",
       "some high school    62.584013     65.510785     63.632409"
      ]
     },
     "execution_count": 9,
     "metadata": {},
     "output_type": "execute_result"
    }
   ],
   "source": [
    "gb=df.groupby('ParentEduc').agg({\"MathScore\":'mean',\"ReadingScore\":'mean',\"WritingScore\":'mean'})\n",
    "gb"
   ]
  },
  {
   "cell_type": "code",
   "execution_count": 10,
   "id": "0e076466",
   "metadata": {
    "execution": {
     "iopub.execute_input": "2024-02-03T15:13:29.008859Z",
     "iopub.status.busy": "2024-02-03T15:13:29.007946Z",
     "iopub.status.idle": "2024-02-03T15:13:29.338321Z",
     "shell.execute_reply": "2024-02-03T15:13:29.337196Z"
    },
    "papermill": {
     "duration": 0.344456,
     "end_time": "2024-02-03T15:13:29.340953",
     "exception": false,
     "start_time": "2024-02-03T15:13:28.996497",
     "status": "completed"
    },
    "tags": []
   },
   "outputs": [
    {
     "data": {
      "image/png": "[encoded data removed]",
      "text/plain": [
       "<Figure size 640x480 with 2 Axes>"
      ]
     },
     "metadata": {},
     "output_type": "display_data"
    }
   ],
   "source": [
    "sns.heatmap(gb,annot=True)\n",
    "plt.title(\"Relationship between Parent's Education and Student's Score\")\n",
    "plt.show()"
   ]
  },
  {
   "cell_type": "markdown",
   "id": "041a6ef7",
   "metadata": {
    "papermill": {
     "duration": 0.01049,
     "end_time": "2024-02-03T15:13:29.362256",
     "exception": false,
     "start_time": "2024-02-03T15:13:29.351766",
     "status": "completed"
    },
    "tags": []
   },
   "source": [
    "*From the above chart we have concluded that the education of the parents have a good impact on their scores.*"
   ]
  },
  {
   "cell_type": "code",
   "execution_count": 11,
   "id": "bc518b9b",
   "metadata": {
    "execution": {
     "iopub.execute_input": "2024-02-03T15:13:29.385819Z",
     "iopub.status.busy": "2024-02-03T15:13:29.385445Z",
     "iopub.status.idle": "2024-02-03T15:13:29.406515Z",
     "shell.execute_reply": "2024-02-03T15:13:29.405559Z"
    },
    "papermill": {
     "duration": 0.035647,
     "end_time": "2024-02-03T15:13:29.408900",
     "exception": false,
     "start_time": "2024-02-03T15:13:29.373253",
     "status": "completed"
    },
    "tags": []
   },
   "outputs": [
    {
     "data": {
      "text/html": [
       "<div>\n",
       "<style scoped>\n",
       "    .dataframe tbody tr th:only-of-type {\n",
       "        vertical-align: middle;\n",
       "    }\n",
       "\n",
       "    .dataframe tbody tr th {\n",
       "        vertical-align: top;\n",
       "    }\n",
       "\n",
       "    .dataframe thead th {\n",
       "        text-align: right;\n",
       "    }\n",
       "</style>\n",
       "<table border=\"1\" class=\"dataframe\">\n",
       "  <thead>\n",
       "    <tr style=\"text-align: right;\">\n",
       "      <th></th>\n",
       "      <th>MathScore</th>\n",
       "      <th>ReadingScore</th>\n",
       "      <th>WritingScore</th>\n",
       "    </tr>\n",
       "    <tr>\n",
       "      <th>ParentMaritalStatus</th>\n",
       "      <th></th>\n",
       "      <th></th>\n",
       "      <th></th>\n",
       "    </tr>\n",
       "  </thead>\n",
       "  <tbody>\n",
       "    <tr>\n",
       "      <th>divorced</th>\n",
       "      <td>66.691197</td>\n",
       "      <td>69.655011</td>\n",
       "      <td>68.799146</td>\n",
       "    </tr>\n",
       "    <tr>\n",
       "      <th>married</th>\n",
       "      <td>66.657326</td>\n",
       "      <td>69.389575</td>\n",
       "      <td>68.420981</td>\n",
       "    </tr>\n",
       "    <tr>\n",
       "      <th>single</th>\n",
       "      <td>66.165704</td>\n",
       "      <td>69.157250</td>\n",
       "      <td>68.174440</td>\n",
       "    </tr>\n",
       "    <tr>\n",
       "      <th>widowed</th>\n",
       "      <td>67.368866</td>\n",
       "      <td>69.651438</td>\n",
       "      <td>68.563452</td>\n",
       "    </tr>\n",
       "  </tbody>\n",
       "</table>\n",
       "</div>"
      ],
      "text/plain": [
       "                     MathScore  ReadingScore  WritingScore\n",
       "ParentMaritalStatus                                       \n",
       "divorced             66.691197     69.655011     68.799146\n",
       "married              66.657326     69.389575     68.420981\n",
       "single               66.165704     69.157250     68.174440\n",
       "widowed              67.368866     69.651438     68.563452"
      ]
     },
     "execution_count": 11,
     "metadata": {},
     "output_type": "execute_result"
    }
   ],
   "source": [
    "gb1=df.groupby('ParentMaritalStatus').agg({\"MathScore\":'mean',\"ReadingScore\":'mean',\"WritingScore\":'mean'})\n",
    "gb1"
   ]
  },
  {
   "cell_type": "code",
   "execution_count": 12,
   "id": "d561d8d0",
   "metadata": {
    "execution": {
     "iopub.execute_input": "2024-02-03T15:13:29.432690Z",
     "iopub.status.busy": "2024-02-03T15:13:29.432280Z",
     "iopub.status.idle": "2024-02-03T15:13:29.728487Z",
     "shell.execute_reply": "2024-02-03T15:13:29.727215Z"
    },
    "papermill": {
     "duration": 0.311324,
     "end_time": "2024-02-03T15:13:29.731235",
     "exception": false,
     "start_time": "2024-02-03T15:13:29.419911",
     "status": "completed"
    },
    "tags": []
   },
   "outputs": [
    {
     "data": {
      "image/png": "[encoded data removed]",
      "text/plain": [
       "<Figure size 640x480 with 2 Axes>"
      ]
     },
     "metadata": {},
     "output_type": "display_data"
    }
   ],
   "source": [
    "sns.heatmap(gb1,annot=True)\n",
    "plt.title(\"Relationship between Parent's Marital Status & Student Score\")\n",
    "plt.show()"
   ]
  },
  {
   "cell_type": "markdown",
   "id": "296e7514",
   "metadata": {
    "papermill": {
     "duration": 0.011651,
     "end_time": "2024-02-03T15:13:29.755146",
     "exception": false,
     "start_time": "2024-02-03T15:13:29.743495",
     "status": "completed"
    },
    "tags": []
   },
   "source": [
    "*From the above chart we have concluded that there is no/negligible impact on the student's score due to their parent's marital status.*"
   ]
  },
  {
   "cell_type": "code",
   "execution_count": 13,
   "id": "6618c913",
   "metadata": {
    "execution": {
     "iopub.execute_input": "2024-02-03T15:13:29.780426Z",
     "iopub.status.busy": "2024-02-03T15:13:29.780052Z",
     "iopub.status.idle": "2024-02-03T15:13:29.912406Z",
     "shell.execute_reply": "2024-02-03T15:13:29.911326Z"
    },
    "papermill": {
     "duration": 0.148118,
     "end_time": "2024-02-03T15:13:29.914949",
     "exception": false,
     "start_time": "2024-02-03T15:13:29.766831",
     "status": "completed"
    },
    "tags": []
   },
   "outputs": [
    {
     "data": {
      "image/png": "[encoded data removed]",
      "text/plain": [
       "<Figure size 640x480 with 1 Axes>"
      ]
     },
     "metadata": {},
     "output_type": "display_data"
    }
   ],
   "source": [
    "sns.boxplot(data=df,x=\"MathScore\")\n",
    "plt.show()"
   ]
  },
  {
   "cell_type": "code",
   "execution_count": 14,
   "id": "6685fafc",
   "metadata": {
    "execution": {
     "iopub.execute_input": "2024-02-03T15:13:29.940879Z",
     "iopub.status.busy": "2024-02-03T15:13:29.940470Z",
     "iopub.status.idle": "2024-02-03T15:13:30.072459Z",
     "shell.execute_reply": "2024-02-03T15:13:30.071329Z"
    },
    "papermill": {
     "duration": 0.147824,
     "end_time": "2024-02-03T15:13:30.074936",
     "exception": false,
     "start_time": "2024-02-03T15:13:29.927112",
     "status": "completed"
    },
    "tags": []
   },
   "outputs": [
    {
     "data": {
      "image/png": "[encoded data removed]",
      "text/plain": [
       "<Figure size 640x480 with 1 Axes>"
      ]
     },
     "metadata": {},
     "output_type": "display_data"
    }
   ],
   "source": [
    "sns.boxplot(data=df,x=\"ReadingScore\")\n",
    "plt.show()"
   ]
  },
  {
   "cell_type": "code",
   "execution_count": 15,
   "id": "ab8c3080",
   "metadata": {
    "execution": {
     "iopub.execute_input": "2024-02-03T15:13:30.101733Z",
     "iopub.status.busy": "2024-02-03T15:13:30.101305Z",
     "iopub.status.idle": "2024-02-03T15:13:30.238781Z",
     "shell.execute_reply": "2024-02-03T15:13:30.237507Z"
    },
    "papermill": {
     "duration": 0.15393,
     "end_time": "2024-02-03T15:13:30.241487",
     "exception": false,
     "start_time": "2024-02-03T15:13:30.087557",
     "status": "completed"
    },
    "tags": []
   },
   "outputs": [
    {
     "data": {
      "image/png": "[encoded data removed]",
      "text/plain": [
       "<Figure size 640x480 with 1 Axes>"
      ]
     },
     "metadata": {},
     "output_type": "display_data"
    }
   ],
   "source": [
    "sns.boxplot(data=df,x=\"WritingScore\")\n",
    "plt.show()"
   ]
  },
  {
   "cell_type": "markdown",
   "id": "be9360da",
   "metadata": {
    "papermill": {
     "duration": 0.012626,
     "end_time": "2024-02-03T15:13:30.266869",
     "exception": false,
     "start_time": "2024-02-03T15:13:30.254243",
     "status": "completed"
    },
    "tags": []
   },
   "source": [
    "*From the above chart we have concluded that students are comparatively weaker in math as opposed to reading and writing scores.*"
   ]
  },
  {
   "cell_type": "code",
   "execution_count": 16,
   "id": "1db7a967",
   "metadata": {
    "execution": {
     "iopub.execute_input": "2024-02-03T15:13:30.294090Z",
     "iopub.status.busy": "2024-02-03T15:13:30.293332Z",
     "iopub.status.idle": "2024-02-03T15:13:30.302378Z",
     "shell.execute_reply": "2024-02-03T15:13:30.301343Z"
    },
    "papermill": {
     "duration": 0.025069,
     "end_time": "2024-02-03T15:13:30.304584",
     "exception": false,
     "start_time": "2024-02-03T15:13:30.279515",
     "status": "completed"
    },
    "tags": []
   },
   "outputs": [
    {
     "data": {
      "text/plain": [
       "array([nan, 'group C', 'group B', 'group A', 'group D', 'group E'],\n",
       "      dtype=object)"
      ]
     },
     "execution_count": 16,
     "metadata": {},
     "output_type": "execute_result"
    }
   ],
   "source": [
    "df['EthnicGroup'].unique()"
   ]
  },
  {
   "cell_type": "markdown",
   "id": "115a1bdc",
   "metadata": {
    "papermill": {
     "duration": 0.012494,
     "end_time": "2024-02-03T15:13:30.329728",
     "exception": false,
     "start_time": "2024-02-03T15:13:30.317234",
     "status": "completed"
    },
    "tags": []
   },
   "source": [
    "# Distribution of Ethnic Group"
   ]
  },
  {
   "cell_type": "code",
   "execution_count": 17,
   "id": "3a84d889",
   "metadata": {
    "execution": {
     "iopub.execute_input": "2024-02-03T15:13:30.356436Z",
     "iopub.status.busy": "2024-02-03T15:13:30.356045Z",
     "iopub.status.idle": "2024-02-03T15:13:30.576550Z",
     "shell.execute_reply": "2024-02-03T15:13:30.575396Z"
    },
    "papermill": {
     "duration": 0.236976,
     "end_time": "2024-02-03T15:13:30.579292",
     "exception": false,
     "start_time": "2024-02-03T15:13:30.342316",
     "status": "completed"
    },
    "tags": []
   },
   "outputs": [
    {
     "data": {
      "image/png": "[encoded data removed]",
      "text/plain": [
       "<Figure size 640x480 with 1 Axes>"
      ]
     },
     "metadata": {},
     "output_type": "display_data"
    }
   ],
   "source": [
    "groupA=df.loc[(df['EthnicGroup']=='group A')].count()\n",
    "groupB=df.loc[(df['EthnicGroup']=='group B')].count()\n",
    "groupC=df.loc[(df['EthnicGroup']=='group C')].count()\n",
    "groupD=df.loc[(df['EthnicGroup']=='group D')].count()\n",
    "groupE=df.loc[(df['EthnicGroup']=='group E')].count()\n",
    "mlist=[groupA['EthnicGroup'],groupB['EthnicGroup'],groupC['EthnicGroup'],groupD['EthnicGroup'],groupE['EthnicGroup']]\n",
    "l=['group A', 'group B', 'group C', 'group D', 'group E']\n",
    "plt.pie(mlist,labels=l,autopct=\"%1.2f%%\")\n",
    "plt.title(\"Distribution of Ethnic Groups\")\n",
    "plt.show()"
   ]
  },
  {
   "cell_type": "markdown",
   "id": "660750ad",
   "metadata": {
    "papermill": {
     "duration": 0.013261,
     "end_time": "2024-02-03T15:13:30.605938",
     "exception": false,
     "start_time": "2024-02-03T15:13:30.592677",
     "status": "completed"
    },
    "tags": []
   },
   "source": [
    "*Looking at the chart, most students are in Group C (32%), followed by Group D (26%). This shows the different ethnic groups*"
   ]
  },
  {
   "cell_type": "markdown",
   "id": "708675de",
   "metadata": {
    "papermill": {
     "duration": 0.012975,
     "end_time": "2024-02-03T15:13:30.632526",
     "exception": false,
     "start_time": "2024-02-03T15:13:30.619551",
     "status": "completed"
    },
    "tags": []
   },
   "source": [
    "# Conclusion"
   ]
  },
  {
   "cell_type": "markdown",
   "id": "d8b3b4dc",
   "metadata": {
    "papermill": {
     "duration": 0.013251,
     "end_time": "2024-02-03T15:13:30.659605",
     "exception": false,
     "start_time": "2024-02-03T15:13:30.646354",
     "status": "completed"
    },
    "tags": []
   },
   "source": [
    "* Gender: More females are in the data than males.\n",
    "* Parental Education: Parents' education positively affects students' scores.\n",
    "* Parental Marital Status: Parents' marital status has little to no impact on students' scores.\n",
    "* Subject Performance: Students are weaker in math compared to reading and writing.\n",
    "* Ethnic Group Distribution: Most students belong to Group C (32%) and then Group D (26%), showing diverse ethnic groups in our dataset."
   ]
  }
 ],
 "metadata": {
  "kaggle": {
   "accelerator": "none",
   "dataSources": [
    {
     "datasetId": 3128523,
     "sourceId": 5399169,
     "sourceType": "datasetVersion"
    }
   ],
   "dockerImageVersionId": 30646,
   "isGpuEnabled": false,
   "isInternetEnabled": true,
   "language": "python",
   "sourceType": "notebook"
  },
  "kernelspec": {
   "display_name": "Python 3",
   "language": "python",
   "name": "python3"
  },
  "language_info": {
   "codemirror_mode": {
    "name": "ipython",
    "version": 3
   },
   "file_extension": ".py",
   "mimetype": "text/x-python",
   "name": "python",
   "nbconvert_exporter": "python",
   "pygments_lexer": "ipython3",
   "version": "3.10.13"
  },
  "papermill": {
   "default_parameters": {},
   "duration": 8.37664,
   "end_time": "2024-02-03T15:13:31.192487",
   "environment_variables": {},
   "exception": null,
   "input_path": "__notebook__.ipynb",
   "output_path": "__notebook__.ipynb",
   "parameters": {},
   "start_time": "2024-02-03T15:13:22.815847",
   "version": "2.5.0"
  }
 },
 "nbformat": 4,
 "nbformat_minor": 5
}
